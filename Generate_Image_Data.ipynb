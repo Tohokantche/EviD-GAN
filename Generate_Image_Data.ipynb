{
 "cells": [
  {
   "cell_type": "code",
   "execution_count": null,
   "metadata": {},
   "outputs": [],
   "source": [
    "import os\n",
    "import errno\n",
    "import torch\n",
    "import torchvision\n",
    "import torch.nn as nn\n",
    "from torchvision import transforms\n",
    "from torchvision.utils import save_image\n",
    "import torch.nn.functional as F\n",
    "from torch.autograd import Variable\n",
    "import matplotlib.pyplot as plt\n",
    "import pylab\n",
    "import numpy as np\n",
    "%load_ext autoreload\n",
    "%autoreload 2"
   ]
  },
  {
   "cell_type": "code",
   "execution_count": null,
   "metadata": {},
   "outputs": [],
   "source": [
    "ndf=32\n",
    "ngf=32\n",
    "nc=3\n",
    "#final image size\n",
    "fs=ndf*2//32"
   ]
  },
  {
   "cell_type": "markdown",
   "metadata": {},
   "source": [
    "<h1> Load pre-trained model </h1>"
   ]
  },
  {
   "cell_type": "code",
   "execution_count": null,
   "metadata": {},
   "outputs": [],
   "source": [
    "channels = 3\n",
    "leak = 0.1\n",
    "w_g = 4\n",
    "def _make_dir(directory):\n",
    "    try:\n",
    "        os.makedirs(directory)\n",
    "    except OSError as e:\n",
    "        if e.errno != errno.EEXIST:\n",
    "            raise\n",
    "\n",
    "class GenerativeNet(torch.nn.Module):\n",
    "    \n",
    "    def __init__(self,z_dim):\n",
    "        super(GenerativeNet,self).__init__()\n",
    "        \n",
    "        self.z_dim = z_dim\n",
    "\n",
    "        self.model = nn.Sequential(\n",
    "            nn.ConvTranspose2d(z_dim, 512, 4, stride=1),\n",
    "            nn.BatchNorm2d(512),\n",
    "            nn.ReLU(),\n",
    "            nn.ConvTranspose2d(512, 256, 4, stride=2, padding=(1,1)),\n",
    "            nn.BatchNorm2d(256),\n",
    "            nn.ReLU(),\n",
    "            nn.ConvTranspose2d(256, 128, 4, stride=2, padding=(1,1)),\n",
    "            nn.BatchNorm2d(128),\n",
    "            nn.ReLU(),\n",
    "            nn.ConvTranspose2d(128, 64, 4, stride=2, padding=(1,1)),\n",
    "            nn.BatchNorm2d(64),\n",
    "            nn.ReLU(),\n",
    "            nn.ConvTranspose2d(64, channels, 3, stride=1, padding=(1,1)),\n",
    "            nn.Tanh())\n",
    "\n",
    "    def forward(self, z):\n",
    "        return self.model(z.view(-1, self.z_dim, 1, 1))"
   ]
  },
  {
   "cell_type": "code",
   "execution_count": null,
   "metadata": {},
   "outputs": [],
   "source": [
    "# FID to compute\n",
    "#1 \"SN_Rg-DCGAN-Evidential-(2-2)-Conv\"\n",
    "num_gpu = 1 if torch.cuda.is_available() else 0\n",
    "G = GenerativeNet(100)\n",
    "dataset='CIFAR10'\n",
    "model=[\"EviD-GAN-Continuous\"] # "
   ]
  },
  {
   "cell_type": "markdown",
   "metadata": {},
   "source": [
    "<h1> Generate some images </h1>"
   ]
  },
  {
   "cell_type": "code",
   "execution_count": null,
   "metadata": {},
   "outputs": [],
   "source": [
    "for l in model:\n",
    "    for k in range(96): #146 251 296; 63-96\n",
    "        # load weights\n",
    "        G.load_state_dict(torch.load(\"D:\\data\\models\\{}\\{}\\G_epoch_{}\".format(l,dataset,((k*2000)+10000))))\n",
    "        G.eval()\n",
    "        with torch.no_grad():\n",
    "            if torch.cuda.is_available():\n",
    "                #D = D.cuda()\n",
    "                G = G.cuda()\n",
    "            batch_size = 100\n",
    "            latent_size = 100\n",
    "            # Directory for generated images\n",
    "            outDir=\"D:\\g_sample\\{}\\{}\\G_epoch_{}\\\\1\\\\\".format(l,dataset,(k*2000)+10000)\n",
    "            _make_dir(outDir)\n",
    "            for i in range(125):\n",
    "                fixed_noise = torch.randn(batch_size, latent_size)\n",
    "                if torch.cuda.is_available():\n",
    "                    fixed_noise = fixed_noise.cuda()\n",
    "                fake_images = G(fixed_noise)\n",
    "                for j in range(batch_size):\n",
    "                    torchvision.utils.save_image(fake_images[j], outDir+str(100*i+j)+\".png\", padding=0, normalize=True, scale_each=True, pad_value=0)\n",
    "torch.cuda.empty_cache()\n",
    "os._exit(00)"
   ]
  }
 ],
 "metadata": {
  "kernelspec": {
   "display_name": "Python 3 (ipykernel)",
   "language": "python",
   "name": "python3"
  },
  "language_info": {
   "codemirror_mode": {
    "name": "ipython",
    "version": 3
   },
   "file_extension": ".py",
   "mimetype": "text/x-python",
   "name": "python",
   "nbconvert_exporter": "python",
   "pygments_lexer": "ipython3",
   "version": "3.7.16"
  }
 },
 "nbformat": 4,
 "nbformat_minor": 2
}
